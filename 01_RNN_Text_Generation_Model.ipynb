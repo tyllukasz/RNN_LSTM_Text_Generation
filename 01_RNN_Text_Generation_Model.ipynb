{
 "cells": [
  {
   "cell_type": "markdown",
   "id": "e03de15e",
   "metadata": {},
   "source": [
    "# RNN Text Generation"
   ]
  },
  {
   "cell_type": "markdown",
   "id": "a5585e2c",
   "metadata": {},
   "source": [
    "## Imports"
   ]
  },
  {
   "cell_type": "code",
   "execution_count": 1,
   "id": "2b5a1497",
   "metadata": {},
   "outputs": [],
   "source": [
    "import torch\n",
    "from torch import nn\n",
    "import torch.nn.functional as F\n",
    "\n",
    "import numpy as np\n",
    "import matplotlib.pyplot as plt"
   ]
  },
  {
   "cell_type": "markdown",
   "id": "4358315e",
   "metadata": {},
   "source": [
    "## Text File Import"
   ]
  },
  {
   "cell_type": "code",
   "execution_count": 2,
   "id": "457038ab",
   "metadata": {},
   "outputs": [],
   "source": [
    "with open('shakespeare.txt','r',encoding='utf8') as f:\n",
    "    text = f.read()"
   ]
  },
  {
   "cell_type": "code",
   "execution_count": 3,
   "id": "a740ce1d",
   "metadata": {},
   "outputs": [
    {
     "data": {
      "text/plain": [
       "str"
      ]
     },
     "execution_count": 3,
     "metadata": {},
     "output_type": "execute_result"
    }
   ],
   "source": [
    "type(text)"
   ]
  },
  {
   "cell_type": "code",
   "execution_count": 21,
   "id": "9b4a10bb",
   "metadata": {},
   "outputs": [
    {
     "name": "stdout",
     "output_type": "stream",
     "text": [
      "\n",
      "                     1\n",
      "  From fairest creatures we desire increase,\n",
      "  That thereby beauty's rose might never die,\n",
      "  But as the riper should by time decease,\n",
      "  His tender heir might bear his memory:\n",
      "  But thou contracted to thine own bright eyes,\n",
      "  Feed'st thy light's flame with self-substantial fuel,\n",
      "  Making a famine where abundance lies,\n",
      "  Thy self thy foe, to thy sweet self too cruel:\n",
      "  Thou that art now the world's fresh ornament,\n",
      "  And only herald to the gaudy spring,\n",
      "  Within thine own bud buriest thy content,\n",
      "  And tender churl mak'st waste in niggarding:\n",
      "    Pity the world, or else this glutton be,\n",
      "    To eat the world's due, by the grave and thee.\n",
      "\n",
      "\n",
      "  \n"
     ]
    }
   ],
   "source": [
    "print(text[:670])"
   ]
  },
  {
   "cell_type": "code",
   "execution_count": 7,
   "id": "7e1e4eec",
   "metadata": {},
   "outputs": [
    {
     "data": {
      "text/plain": [
       "5445609"
      ]
     },
     "execution_count": 7,
     "metadata": {},
     "output_type": "execute_result"
    }
   ],
   "source": [
    "len(text)"
   ]
  },
  {
   "cell_type": "markdown",
   "id": "ba9f44d3",
   "metadata": {},
   "source": [
    "## Text Encoding"
   ]
  },
  {
   "cell_type": "code",
   "execution_count": 22,
   "id": "090baeab",
   "metadata": {},
   "outputs": [],
   "source": [
    "#all unique characters\n",
    "all_characters = set(text)"
   ]
  },
  {
   "cell_type": "code",
   "execution_count": 25,
   "id": "c724b911",
   "metadata": {},
   "outputs": [
    {
     "data": {
      "text/plain": [
       "84"
      ]
     },
     "execution_count": 25,
     "metadata": {},
     "output_type": "execute_result"
    }
   ],
   "source": [
    "len(all_characters)"
   ]
  },
  {
   "cell_type": "code",
   "execution_count": 31,
   "id": "6a39b227",
   "metadata": {},
   "outputs": [],
   "source": [
    "# DECODER\n",
    "# number to letter\n",
    "\n",
    "'''\n",
    "for pair in enumerate(all_characters):\n",
    "    print(pair)\n",
    "'''\n",
    "\n",
    "decoder = dict(enumerate(all_characters))"
   ]
  },
  {
   "cell_type": "code",
   "execution_count": 33,
   "id": "5c2961d9",
   "metadata": {},
   "outputs": [],
   "source": [
    "# ENCODER\n",
    "# letter to number\n",
    "\n",
    "encoder = {char: ind for ind,char in decoder.items()}"
   ]
  },
  {
   "cell_type": "code",
   "execution_count": 41,
   "id": "9d8ebd45",
   "metadata": {},
   "outputs": [],
   "source": [
    "# full text encoding (characters to numericall values)\n",
    "\n",
    "encoded_text = np.array([encoder[char] for char in text])"
   ]
  },
  {
   "cell_type": "code",
   "execution_count": 43,
   "id": "747d2a4e",
   "metadata": {},
   "outputs": [
    {
     "data": {
      "text/plain": [
       "True"
      ]
     },
     "execution_count": 43,
     "metadata": {},
     "output_type": "execute_result"
    }
   ],
   "source": [
    "len(encoded_text) == len(text)"
   ]
  },
  {
   "cell_type": "code",
   "execution_count": 44,
   "id": "c8a6f9a6",
   "metadata": {},
   "outputs": [
    {
     "data": {
      "text/plain": [
       "array([75, 61, 61, 61, 61, 61, 61, 61, 61, 61, 61, 61, 61, 61, 61, 61, 61,\n",
       "       61, 61, 61, 61, 61, 39, 75, 61, 61,  6, 17, 54, 20, 61, 38,  9, 12,\n",
       "       17, 28, 40, 62, 61, 66, 17, 28,  9, 62, 13, 17, 28, 40, 61, 49, 28,\n",
       "       61,  7, 28, 40, 12, 17, 28, 61, 12, 25, 66, 17, 28,  9, 40, 28, 29,\n",
       "       75, 61, 61, 83, 14,  9, 62, 61, 62, 14, 28, 17, 28, 81,  0, 61, 81,\n",
       "       28,  9, 13, 62,  0,  5, 40, 61, 17, 54, 40, 28, 61, 20, 12])"
      ]
     },
     "execution_count": 44,
     "metadata": {},
     "output_type": "execute_result"
    }
   ],
   "source": [
    "encoded_text[:100]"
   ]
  },
  {
   "cell_type": "markdown",
   "id": "f5af80b4",
   "metadata": {},
   "source": [
    "## One Hot Encoding"
   ]
  },
  {
   "cell_type": "code",
   "execution_count": 48,
   "id": "9623bfbe",
   "metadata": {},
   "outputs": [],
   "source": [
    "#number of unique characters\n",
    "num_uni_chars = len(set(text))"
   ]
  },
  {
   "cell_type": "code",
   "execution_count": 70,
   "id": "d40ff6de",
   "metadata": {},
   "outputs": [],
   "source": [
    "def one_hot_encoder(encoded_text , num_uni_chars):\n",
    "    \n",
    "    #encoded text - batch of encoded text\n",
    "    #num_uni_chars - number of unique characters in whole text file\n",
    "    \n",
    "    one_hot = np.zeros((encoded_text.size , num_uni_chars)) #prepare array with correct dimensions\n",
    "    \n",
    "    one_hot = one_hot.astype(np.float32) #data type for PyTorch\n",
    "    \n",
    "    one_hot[np.arange(one_hot.shape[0]),encoded_text.flatten()] = 1.0 #put ones in the position which coresponds to encoded char value\n",
    "    \n",
    "    one_hot = one_hot.reshape(*encoded_text.shape,num_uni_chars)\n",
    "    \n",
    "    return one_hot"
   ]
  },
  {
   "cell_type": "code",
   "execution_count": 71,
   "id": "47cb9315",
   "metadata": {},
   "outputs": [
    {
     "data": {
      "text/plain": [
       "array([1, 2, 0])"
      ]
     },
     "execution_count": 71,
     "metadata": {},
     "output_type": "execute_result"
    }
   ],
   "source": [
    "# testing one_hot_encoder on small array\n",
    "arr = np.array([1,2,0])\n",
    "arr"
   ]
  },
  {
   "cell_type": "code",
   "execution_count": 72,
   "id": "551b1b11",
   "metadata": {},
   "outputs": [
    {
     "data": {
      "text/plain": [
       "array([[0., 1., 0.],\n",
       "       [0., 0., 1.],\n",
       "       [1., 0., 0.]], dtype=float32)"
      ]
     },
     "execution_count": 72,
     "metadata": {},
     "output_type": "execute_result"
    }
   ],
   "source": [
    "one_hot_encoder(arr,3)"
   ]
  },
  {
   "cell_type": "markdown",
   "id": "b0aa4ae1",
   "metadata": {},
   "source": [
    "## Training Batches"
   ]
  },
  {
   "cell_type": "code",
   "execution_count": 76,
   "id": "d6250110",
   "metadata": {},
   "outputs": [],
   "source": [
    "example_text = np.arange(10)"
   ]
  },
  {
   "cell_type": "code",
   "execution_count": 77,
   "id": "aa920676",
   "metadata": {},
   "outputs": [
    {
     "data": {
      "text/plain": [
       "array([0, 1, 2, 3, 4, 5, 6, 7, 8, 9])"
      ]
     },
     "execution_count": 77,
     "metadata": {},
     "output_type": "execute_result"
    }
   ],
   "source": [
    "example_text"
   ]
  },
  {
   "cell_type": "code",
   "execution_count": 78,
   "id": "aac3a372",
   "metadata": {},
   "outputs": [
    {
     "data": {
      "text/plain": [
       "array([[0, 1],\n",
       "       [2, 3],\n",
       "       [4, 5],\n",
       "       [6, 7],\n",
       "       [8, 9]])"
      ]
     },
     "execution_count": 78,
     "metadata": {},
     "output_type": "execute_result"
    }
   ],
   "source": [
    "example_text.reshape(5,-1)"
   ]
  },
  {
   "cell_type": "code",
   "execution_count": 79,
   "id": "3f6b0219",
   "metadata": {},
   "outputs": [],
   "source": [
    "def generate_batches(encoded_text , sam_per_batch = 10 , seq_len=50):\n",
    "    \n",
    "    # X -> encoded text of length 'seq_len'\n",
    "    # Y -> encoded text shifted by 1\n",
    "    \n",
    "    # how many characters per batch\n",
    "    char_per_batch = sam_per_batch * seq_len\n",
    "    \n",
    "    # how many batches possible in entire text\n",
    "    num_batches_avail = int(len(encoded_text)/char_per_batch)\n",
    "    \n",
    "    # cut off the end of the encoded text\n",
    "    encoded_text = encoded_text[:num_batches_avail*char_per_batch]\n",
    "    \n",
    "    \n",
    "    encoded_text = encoded_text.reshape(sam_per_batch,-1)\n",
    "    \n",
    "    for n in range(0,encoded_text.shape[1],seq_len):\n",
    "        \n",
    "        x = encoded_text[:,n:n+seq_len]\n",
    "        \n",
    "        y = np.zeros_like(x)\n",
    "        \n",
    "        try:\n",
    "            \n",
    "            y[:,:-1] = x[:,1:]\n",
    "            y[:,-1] = encoded_text[:,n+seq_len]\n",
    "            \n",
    "        except:\n",
    "            \n",
    "            y[:,:-1] = x[:,1:]\n",
    "            y[:,-1] = encoded_text[:,0]\n",
    "            \n",
    "        yield x,y         \n",
    "            "
   ]
  },
  {
   "cell_type": "code",
   "execution_count": 140,
   "id": "0ba21270",
   "metadata": {},
   "outputs": [],
   "source": [
    "# generator test\n",
    "sample_text = np.arange(20)"
   ]
  },
  {
   "cell_type": "code",
   "execution_count": 141,
   "id": "a043b610",
   "metadata": {},
   "outputs": [
    {
     "data": {
      "text/plain": [
       "array([ 0,  1,  2,  3,  4,  5,  6,  7,  8,  9, 10, 11, 12, 13, 14, 15, 16,\n",
       "       17, 18, 19])"
      ]
     },
     "execution_count": 141,
     "metadata": {},
     "output_type": "execute_result"
    }
   ],
   "source": [
    "sample_text"
   ]
  },
  {
   "cell_type": "code",
   "execution_count": 142,
   "id": "285a50e7",
   "metadata": {},
   "outputs": [],
   "source": [
    "batch_generator = generate_batches(sample_text,sam_per_batch=2,seq_len=5)"
   ]
  },
  {
   "cell_type": "code",
   "execution_count": 143,
   "id": "ddbf5318",
   "metadata": {},
   "outputs": [
    {
     "data": {
      "text/plain": [
       "generator"
      ]
     },
     "execution_count": 143,
     "metadata": {},
     "output_type": "execute_result"
    }
   ],
   "source": [
    "type(batch_generator)"
   ]
  },
  {
   "cell_type": "code",
   "execution_count": 144,
   "id": "c3d30d14",
   "metadata": {},
   "outputs": [],
   "source": [
    "x,y = next(batch_generator)"
   ]
  },
  {
   "cell_type": "code",
   "execution_count": 145,
   "id": "08fa8b06",
   "metadata": {},
   "outputs": [
    {
     "data": {
      "text/plain": [
       "array([[ 0,  1,  2,  3,  4],\n",
       "       [10, 11, 12, 13, 14]])"
      ]
     },
     "execution_count": 145,
     "metadata": {},
     "output_type": "execute_result"
    }
   ],
   "source": [
    "x"
   ]
  },
  {
   "cell_type": "code",
   "execution_count": 146,
   "id": "1d013144",
   "metadata": {},
   "outputs": [
    {
     "data": {
      "text/plain": [
       "array([[ 1,  2,  3,  4,  5],\n",
       "       [11, 12, 13, 14, 15]])"
      ]
     },
     "execution_count": 146,
     "metadata": {},
     "output_type": "execute_result"
    }
   ],
   "source": [
    "y"
   ]
  },
  {
   "cell_type": "code",
   "execution_count": 147,
   "id": "b0865864",
   "metadata": {},
   "outputs": [],
   "source": [
    "x,y = next(batch_generator)"
   ]
  },
  {
   "cell_type": "code",
   "execution_count": 148,
   "id": "c4ec63a4",
   "metadata": {},
   "outputs": [
    {
     "data": {
      "text/plain": [
       "array([[ 5,  6,  7,  8,  9],\n",
       "       [15, 16, 17, 18, 19]])"
      ]
     },
     "execution_count": 148,
     "metadata": {},
     "output_type": "execute_result"
    }
   ],
   "source": [
    "x"
   ]
  },
  {
   "cell_type": "code",
   "execution_count": 149,
   "id": "ca92082c",
   "metadata": {},
   "outputs": [
    {
     "data": {
      "text/plain": [
       "array([[ 6,  7,  8,  9,  0],\n",
       "       [16, 17, 18, 19, 10]])"
      ]
     },
     "execution_count": 149,
     "metadata": {},
     "output_type": "execute_result"
    }
   ],
   "source": [
    "y"
   ]
  },
  {
   "cell_type": "code",
   "execution_count": null,
   "id": "88294e66",
   "metadata": {},
   "outputs": [],
   "source": []
  }
 ],
 "metadata": {
  "kernelspec": {
   "display_name": "Python 3.8.8 64-bit ('base': conda)",
   "language": "python",
   "name": "python388jvsc74a57bd082217c30dd58b83c58f7757f108df80bbea4950f71b51da868be69f868e821f8"
  },
  "language_info": {
   "codemirror_mode": {
    "name": "ipython",
    "version": 3
   },
   "file_extension": ".py",
   "mimetype": "text/x-python",
   "name": "python",
   "nbconvert_exporter": "python",
   "pygments_lexer": "ipython3",
   "version": "3.8.8"
  }
 },
 "nbformat": 4,
 "nbformat_minor": 5
}
