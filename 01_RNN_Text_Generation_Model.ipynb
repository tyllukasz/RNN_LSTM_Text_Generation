{
 "cells": [
  {
   "cell_type": "markdown",
   "id": "3391019c",
   "metadata": {},
   "source": [
    "# RNN Text Generation"
   ]
  },
  {
   "cell_type": "markdown",
   "id": "df1b908c",
   "metadata": {},
   "source": [
    "## Imports"
   ]
  },
  {
   "cell_type": "code",
   "execution_count": 1,
   "id": "f67c65fb",
   "metadata": {},
   "outputs": [],
   "source": [
    "import torch\n",
    "from torch import nn\n",
    "import torch.nn.functional as F\n",
    "\n",
    "import numpy as np\n",
    "import matplotlib.pyplot as plt"
   ]
  },
  {
   "cell_type": "markdown",
   "id": "21ff62ff",
   "metadata": {},
   "source": [
    "## Text File Import"
   ]
  },
  {
   "cell_type": "code",
   "execution_count": 2,
   "id": "3ee14206",
   "metadata": {},
   "outputs": [],
   "source": [
    "with open('shakespeare.txt','r',encoding='utf8') as f:\n",
    "    text = f.read()"
   ]
  },
  {
   "cell_type": "code",
   "execution_count": 3,
   "id": "68fc8b87",
   "metadata": {},
   "outputs": [
    {
     "data": {
      "text/plain": [
       "str"
      ]
     },
     "execution_count": 3,
     "metadata": {},
     "output_type": "execute_result"
    }
   ],
   "source": [
    "type(text)"
   ]
  },
  {
   "cell_type": "code",
   "execution_count": 21,
   "id": "b65ec889",
   "metadata": {},
   "outputs": [
    {
     "name": "stdout",
     "output_type": "stream",
     "text": [
      "\n",
      "                     1\n",
      "  From fairest creatures we desire increase,\n",
      "  That thereby beauty's rose might never die,\n",
      "  But as the riper should by time decease,\n",
      "  His tender heir might bear his memory:\n",
      "  But thou contracted to thine own bright eyes,\n",
      "  Feed'st thy light's flame with self-substantial fuel,\n",
      "  Making a famine where abundance lies,\n",
      "  Thy self thy foe, to thy sweet self too cruel:\n",
      "  Thou that art now the world's fresh ornament,\n",
      "  And only herald to the gaudy spring,\n",
      "  Within thine own bud buriest thy content,\n",
      "  And tender churl mak'st waste in niggarding:\n",
      "    Pity the world, or else this glutton be,\n",
      "    To eat the world's due, by the grave and thee.\n",
      "\n",
      "\n",
      "  \n"
     ]
    }
   ],
   "source": [
    "print(text[:670])"
   ]
  },
  {
   "cell_type": "code",
   "execution_count": 7,
   "id": "ec0e8ad7",
   "metadata": {},
   "outputs": [
    {
     "data": {
      "text/plain": [
       "5445609"
      ]
     },
     "execution_count": 7,
     "metadata": {},
     "output_type": "execute_result"
    }
   ],
   "source": [
    "len(text)"
   ]
  },
  {
   "cell_type": "markdown",
   "id": "03424371",
   "metadata": {},
   "source": [
    "## Text Encoding"
   ]
  },
  {
   "cell_type": "code",
   "execution_count": 22,
   "id": "3921dd47",
   "metadata": {},
   "outputs": [],
   "source": [
    "#all unique characters\n",
    "all_characters = set(text)"
   ]
  },
  {
   "cell_type": "code",
   "execution_count": 25,
   "id": "0c20faf0",
   "metadata": {},
   "outputs": [
    {
     "data": {
      "text/plain": [
       "84"
      ]
     },
     "execution_count": 25,
     "metadata": {},
     "output_type": "execute_result"
    }
   ],
   "source": [
    "len(all_characters)"
   ]
  },
  {
   "cell_type": "code",
   "execution_count": 31,
   "id": "cb6ae130",
   "metadata": {},
   "outputs": [],
   "source": [
    "# DECODER\n",
    "# number to letter\n",
    "\n",
    "'''\n",
    "for pair in enumerate(all_characters):\n",
    "    print(pair)\n",
    "'''\n",
    "\n",
    "decoder = dict(enumerate(all_characters))"
   ]
  },
  {
   "cell_type": "code",
   "execution_count": 33,
   "id": "a59c568f",
   "metadata": {},
   "outputs": [],
   "source": [
    "# ENCODER\n",
    "# letter to number\n",
    "\n",
    "encoder = {char: ind for ind,char in decoder.items()}"
   ]
  },
  {
   "cell_type": "code",
   "execution_count": 41,
   "id": "3bb570f4",
   "metadata": {},
   "outputs": [],
   "source": [
    "# full text encoding (characters to numericall values)\n",
    "\n",
    "encoded_text = np.array([encoder[char] for char in text])"
   ]
  },
  {
   "cell_type": "code",
   "execution_count": 43,
   "id": "8cf9bf21",
   "metadata": {},
   "outputs": [
    {
     "data": {
      "text/plain": [
       "True"
      ]
     },
     "execution_count": 43,
     "metadata": {},
     "output_type": "execute_result"
    }
   ],
   "source": [
    "len(encoded_text) == len(text)"
   ]
  },
  {
   "cell_type": "code",
   "execution_count": 44,
   "id": "86147740",
   "metadata": {},
   "outputs": [
    {
     "data": {
      "text/plain": [
       "array([75, 61, 61, 61, 61, 61, 61, 61, 61, 61, 61, 61, 61, 61, 61, 61, 61,\n",
       "       61, 61, 61, 61, 61, 39, 75, 61, 61,  6, 17, 54, 20, 61, 38,  9, 12,\n",
       "       17, 28, 40, 62, 61, 66, 17, 28,  9, 62, 13, 17, 28, 40, 61, 49, 28,\n",
       "       61,  7, 28, 40, 12, 17, 28, 61, 12, 25, 66, 17, 28,  9, 40, 28, 29,\n",
       "       75, 61, 61, 83, 14,  9, 62, 61, 62, 14, 28, 17, 28, 81,  0, 61, 81,\n",
       "       28,  9, 13, 62,  0,  5, 40, 61, 17, 54, 40, 28, 61, 20, 12])"
      ]
     },
     "execution_count": 44,
     "metadata": {},
     "output_type": "execute_result"
    }
   ],
   "source": [
    "encoded_text[:100]"
   ]
  },
  {
   "cell_type": "markdown",
   "id": "47411b52",
   "metadata": {},
   "source": [
    "## One Hot Encoding"
   ]
  },
  {
   "cell_type": "code",
   "execution_count": 48,
   "id": "6d4c5608",
   "metadata": {},
   "outputs": [],
   "source": [
    "#number of unique characters\n",
    "num_uni_chars = len(set(text))"
   ]
  },
  {
   "cell_type": "code",
   "execution_count": 67,
   "id": "b9922783",
   "metadata": {},
   "outputs": [],
   "source": [
    "def one_hot_encoder(encoded_text , num_uni_chars):\n",
    "    \n",
    "    #encoded text - batch of encoded text\n",
    "    #num_uni_chars - number of unique characters in whole text file\n",
    "    \n",
    "    one_hot = np.zeros((encoded_text.size , num_uni_chars)) #prepare array with correct dimensions\n",
    "    \n",
    "    one_hot = one_hot.astype(np.float32) #data type for PyTorch\n",
    "    \n",
    "    one_hot[np.arange(one_hot.shape[0]),encoded_text.flatten()] = 1.0 #put ones on the position coresponded to encoded char value\n",
    "    \n",
    "    one_hot = one_hot.reshape(*encoded_text.shape,num_uni_chars)\n",
    "    \n",
    "    return one_hot"
   ]
  },
  {
   "cell_type": "code",
   "execution_count": 68,
   "id": "bacfb0fa",
   "metadata": {},
   "outputs": [
    {
     "data": {
      "text/plain": [
       "array([1, 2, 0])"
      ]
     },
     "execution_count": 68,
     "metadata": {},
     "output_type": "execute_result"
    }
   ],
   "source": [
    "# testing one_hot_encoder on small array\n",
    "arr = np.array([1,2,0])\n",
    "arr"
   ]
  },
  {
   "cell_type": "code",
   "execution_count": 69,
   "id": "46a03c7a",
   "metadata": {},
   "outputs": [
    {
     "data": {
      "text/plain": [
       "array([[0., 1., 0.],\n",
       "       [0., 0., 1.],\n",
       "       [1., 0., 0.]], dtype=float32)"
      ]
     },
     "execution_count": 69,
     "metadata": {},
     "output_type": "execute_result"
    }
   ],
   "source": [
    "one_hot_encoder(arr,3)"
   ]
  },
  {
   "cell_type": "code",
   "execution_count": null,
   "id": "4e1b2c8a",
   "metadata": {},
   "outputs": [],
   "source": []
  }
 ],
 "metadata": {
  "kernelspec": {
   "display_name": "Python 3.8.8 64-bit ('base': conda)",
   "language": "python",
   "name": "python388jvsc74a57bd082217c30dd58b83c58f7757f108df80bbea4950f71b51da868be69f868e821f8"
  },
  "language_info": {
   "codemirror_mode": {
    "name": "ipython",
    "version": 3
   },
   "file_extension": ".py",
   "mimetype": "text/x-python",
   "name": "python",
   "nbconvert_exporter": "python",
   "pygments_lexer": "ipython3",
   "version": "3.8.8"
  }
 },
 "nbformat": 4,
 "nbformat_minor": 5
}
